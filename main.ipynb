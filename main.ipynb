{
 "cells": [
  {
   "cell_type": "markdown",
   "metadata": {},
   "source": [
    "# Chorus Effect\n",
    "\n",
    "In this notebook we will implement a very simple Chorus effect. A chorus effect in its purest form is simply a modulated delay line. Thus we first need to define a delay line and a modulator.\n",
    "\n",
    "First we start importing the necessary libraries. "
   ]
  },
  {
   "cell_type": "code",
   "execution_count": 11,
   "metadata": {},
   "outputs": [],
   "source": [
    "import numpy as np \n",
    "import matplotlib.pyplot as plt \n",
    "import ipywidgets as widgets\n",
    "from scipy.io import wavfile\n"
   ]
  },
  {
   "cell_type": "markdown",
   "metadata": {},
   "source": [
    "# 1. Creating a delay line \n",
    "\n",
    "We'will start by creating a class for which we'll be able to take samples from the past at any position we like. \n",
    "For this we need a way to interpolate values of between samples, so we're not restricted by the sampling rate. \n",
    "For this, we will implement a simple linear interpolation, however cubic or sinc interpolations tend to produce better results (with less aliasing).\n",
    "\n",
    "Obs: Some plugins intentionally use some specific types of interpolations only because of how they sound. "
   ]
  },
  {
   "cell_type": "code",
   "execution_count": 12,
   "metadata": {},
   "outputs": [],
   "source": [
    "class Interpolator:\n",
    "    def interpolate(self, x1, y1, x2, y2, x):\n",
    "        return 0 \n",
    "\n",
    "class LinearInterpolator(Interpolator):\n",
    "    def interpolate(self, delay_line:np.array,delay_in_samples:float):\n",
    "        x  = delay_in_samples\n",
    "        x1 = int( np.floor(delay_in_samples) )\n",
    "        x2 = int( np.ceil(delay_in_samples) )\n",
    " \n",
    "        y1 = delay_line[x1]\n",
    "        y2 = delay_line[x2]\n",
    " \n",
    "        return y1 + (x - x1) * (y2 - y1) / (x2 - x1+1e-10)   \n",
    "        \n",
    "class DelayLine:\n",
    "    maximum_length:int=20000\n",
    "    delay_line:np.array\n",
    "    _pointer:int = 0\n",
    "    interpolator:Interpolator \n",
    "    sampling_rate:int \n",
    "    def __init__(self,maximum_length:int,\n",
    "             sampling_rate:float=48000,\n",
    "             interpolator:Interpolator= LinearInterpolator()):\n",
    "\n",
    "        self.maximum_length = maximum_length\n",
    "        self.delay_line = np.zeros(maximum_length)\n",
    "        self.interpolator = interpolator\n",
    "        self.sampling_rate = sampling_rate\n",
    "    def reset(self):\n",
    "        self._pointer = 0\n",
    "    def _increase_pointer(self):\n",
    "        self._pointer += 1\n",
    "        self._pointer = self._pointer%(self.maximum_length-1) # In C++ you can use a trick with the wire-anding operator to make this faster: \"pointer &= maximum_length-1\"\n",
    "    def append_value(self,value):\n",
    "        self._increase_pointer()\n",
    "        self.delay_line[self._pointer] = value \n",
    "        \n",
    "    \n",
    "    def get_value_at_delay_ms(self,delay_in_ms:float):\n",
    "        delay_in_samples = delay_in_ms/1000.*self.sampling_rate\n",
    "        assert delay_in_samples<self.maximum_length, 'delay time of '+str(delay_in_samples) +' above maximum length of '+str(self.maximum_length)+'. Either reduce it or increase the buffer length'\n",
    "        \n",
    "        tolerance_for_integer = 1e-3\n",
    "        if delay_in_samples-int(delay_in_samples)<tolerance_for_integer:\n",
    "            return self.get_value_at_delay_integer_samples(int(delay_in_samples))\n",
    "        \n",
    "        delay_position = (self._pointer - delay_in_samples) % (self.maximum_length-1)\n",
    "        return self.interpolator.interpolate(self.delay_line,delay_position)\n",
    "    \n",
    "    def get_value_at_delay_integer_samples(self,delay_samples:int):\n",
    "        assert delay_samples == int(delay_samples), 'delay time must be an integer'\n",
    "        idx_of_sample = (self._pointer - delay_samples) % (self.maximum_length-1)\n",
    "        return self.delay_line[idx_of_sample]\n",
    "        \n",
    "\n",
    "        "
   ]
  },
  {
   "cell_type": "markdown",
   "metadata": {},
   "source": [
    "Now we can test our delay"
   ]
  },
  {
   "cell_type": "code",
   "execution_count": 13,
   "metadata": {},
   "outputs": [
    {
     "data": {
      "application/vnd.jupyter.widget-view+json": {
       "model_id": "0a208445c7154ae692e194588a5187cd",
       "version_major": 2,
       "version_minor": 0
      },
      "text/plain": [
       "interactive(children=(IntSlider(value=21, description='delay'), Output()), _dom_classes=('widget-interact',))"
      ]
     },
     "metadata": {},
     "output_type": "display_data"
    }
   ],
   "source": [
    "sampling_rate = 48000\n",
    "time = np.linspace(0,1,sampling_rate)\n",
    "signal = np.sin(2*np.pi*10*time)\n",
    "\n",
    "@widgets.interact(delay=(0, 100))\n",
    "def f(delay=21):\n",
    "    delay_signal = np.zeros_like(signal)\n",
    "    delay_line = DelayLine(maximum_length=20000,sampling_rate=sampling_rate)\n",
    "    for idx,val in enumerate(signal):\n",
    "        delay_line.append_value(val)\n",
    "        delay_signal[idx] = delay_line.get_value_at_delay_ms(delay)\n",
    "\n",
    "\n",
    "    plt.plot(time,signal)\n",
    "    plt.plot(time,delay_signal)\n",
    "    plt.legend(['Original','Delay'])\n",
    "    plt.xlabel('time [s]')\n",
    "    plt.ylabel('amp')\n",
    "    plt.show()"
   ]
  },
  {
   "cell_type": "markdown",
   "metadata": {},
   "source": [
    "# 2. Creating a LFO \n",
    "\n",
    "Now we create a routine to generate a simple sinusoidal LFO (Low-Frequency-Oscillator). You can expand it and add any type you want. "
   ]
  },
  {
   "cell_type": "code",
   "execution_count": 5,
   "metadata": {},
   "outputs": [],
   "source": [
    "class LFO:\n",
    "    frequency:float\n",
    "    amplitude:float\n",
    "    sampling_rate:float\n",
    "    _dt:float\n",
    "    _step:int\n",
    "    base_value:float\n",
    "    def __init__(self,frequency:float,amplitude:float=1,base_value:float=0,sampling_rate:float=48000): \n",
    "        self._dt = 1./sampling_rate\n",
    "        self._step=0\n",
    "        self.sampling_rate=sampling_rate\n",
    "        self.frequency=frequency\n",
    "        self.base_value= base_value\n",
    "        self.amplitude = amplitude\n",
    "        \n",
    "    def get_value(self):\n",
    "        return 0\n",
    "\n",
    "    def update_step(self):\n",
    "        self._step += 1\n",
    "        self._step = self._step%(self.sampling_rate/self.frequency)\n",
    "\n",
    "class SineLFO(LFO):\n",
    "    def get_value(self):\n",
    "        self.update_step()\n",
    "        lfo_sample = self.amplitude*np.sin(2*np.pi*self.frequency*self._dt*self._step)+self.base_value\n",
    "        return lfo_sample\n",
    "\n",
    "# Challenge: Can you finish the following class?\n",
    "#class TriangleLFO(LFO):\n",
    "#    def get_value(self):\n",
    "#        self.update_step()\n",
    "#        # YOUR CODE! \n",
    "#        lfo_sample =  \n",
    "#        return lfo_sample"
   ]
  },
  {
   "cell_type": "markdown",
   "metadata": {},
   "source": [
    "Again we test our implementation"
   ]
  },
  {
   "cell_type": "code",
   "execution_count": 6,
   "metadata": {},
   "outputs": [
    {
     "data": {
      "application/vnd.jupyter.widget-view+json": {
       "model_id": "1f27c964fca14b2f85b6d60166854b22",
       "version_major": 2,
       "version_minor": 0
      },
      "text/plain": [
       "interactive(children=(IntSlider(value=10, description='frequency', max=30, min=1), FloatSlider(value=1.0, desc…"
      ]
     },
     "metadata": {},
     "output_type": "display_data"
    }
   ],
   "source": [
    "amp_slider = widgets.FloatSlider(\n",
    "    value=1.,\n",
    "    min=0.,\n",
    "    max=1.0,\n",
    "    step=0.1,\n",
    "    description='amplitude:',\n",
    "    readout_format='.1f',\n",
    ")\n",
    "\n",
    "base_slider = widgets.FloatSlider(\n",
    "    value=0.,\n",
    "    min=-1.0,\n",
    "    max=1.0,\n",
    "    step=0.1,\n",
    "    description='base value:',\n",
    "    readout_format='.1f',\n",
    ")\n",
    "\n",
    "@widgets.interact(frequency=(1, 30),amplitude=amp_slider,base_value=base_slider)\n",
    "def f(frequency=10,amplitude=1,base_value=0):\n",
    "    lfo_signal = np.zeros(48000)\n",
    "\n",
    "    LFO = SineLFO(frequency=frequency,amplitude=amplitude,base_value=base_value,sampling_rate=48000)\n",
    "    for idx,val in enumerate(lfo_signal):\n",
    "        lfo_signal[idx] = LFO.get_value()\n",
    "    plt.plot(lfo_signal)\n",
    "    plt.ylim(-2,2)\n",
    "    plt.show()"
   ]
  },
  {
   "cell_type": "markdown",
   "metadata": {},
   "source": [
    "# 3. Create the Chorus effect\n",
    "\n",
    "Now that we have defined the delay line and the LFO, we can merge then together to implement the Chorus effect.\n",
    "\n",
    "We do this by modulating the delay line with our LFO."
   ]
  },
  {
   "cell_type": "code",
   "execution_count": 7,
   "metadata": {},
   "outputs": [],
   "source": [
    "class Chorus:\n",
    "    delay_line:DelayLine\n",
    "    lfo:LFO\n",
    "    wet_factor:float \n",
    "    dry_factor:float\n",
    "    feedback:float \n",
    "    def __init__(self,delay_line:DelayLine,lfo:LFO,feedback:float=0.1,dry_factor_dB:float=-3,wet_factor_dB:float=-6) -> None:\n",
    "        self.delay_line = delay_line\n",
    "        self.lfo = lfo\n",
    "        self.feedback = feedback\n",
    "        self.set_dry_wet_factor_dB(dry_factor_dB,wet_factor_dB)\n",
    "        \n",
    "    def process_sample(self,sample):\n",
    "\n",
    "        \n",
    "        delayed_sample= self._get_current_delay_value()\n",
    "        delay_line_value= sample+delayed_sample*self.feedback\n",
    "        self.delay_line.append_value(delay_line_value)\n",
    "        \n",
    "        processed_sample = delayed_sample\n",
    "        output = sample*self.dry_factor + processed_sample*self.wet_factor\n",
    "\n",
    "        self.delay_line.append_value(sample)\n",
    "\n",
    "        return output\n",
    "\n",
    "    def set_dry_wet_factor_dB(self,dry_factor_dB:float,wet_factor_dB:float):\n",
    "        self.dry_factor = 10**(dry_factor_dB/20)\n",
    "        self.wet_factor = 10**(wet_factor_dB/20)\n",
    "\n",
    "    def _get_current_delay_value(self):\n",
    "        delay_value_ms = self.lfo.get_value()\n",
    "        assert delay_value_ms > 0 , 'delay value must be positive. You probably used a amplitude higher than the base value in the lfo'\n",
    "        return self.delay_line.get_value_at_delay_ms(delay_value_ms)\n"
   ]
  },
  {
   "cell_type": "markdown",
   "metadata": {},
   "source": [
    "Now we can load a recording and test our chorus effect! "
   ]
  },
  {
   "cell_type": "code",
   "execution_count": 8,
   "metadata": {},
   "outputs": [
    {
     "name": "stderr",
     "output_type": "stream",
     "text": [
      "/var/folders/k6/0k6bxfs50l1d4jnvnk3d2yp00000gn/T/ipykernel_87035/2132789362.py:2: WavFileWarning: Chunk (non-data) not understood, skipping it.\n",
      "  sampling_rate, signal = wavfile.read(filename)\n"
     ]
    }
   ],
   "source": [
    "def load_and_scale_wav_file(filename:str,scaling_factor:float=0.2):\n",
    "    sampling_rate, signal = wavfile.read(filename)\n",
    "    signal = signal[:,0]/np.max(signal[:,0]) # We do it only for one channel here, feel free to expand it\n",
    "    signal *= scaling_factor\n",
    "    return sampling_rate,signal\n",
    "\n",
    "\n",
    "sampling_rate, signal = load_and_scale_wav_file('testForChorus.wav')\n",
    "\n",
    "\n",
    "delay_line = DelayLine(maximum_length=20000,sampling_rate=sampling_rate)\n",
    "lfo = SineLFO(frequency=0.3,amplitude=14,base_value=15,sampling_rate=48000)\n",
    "processor = Chorus(delay_line,lfo,feedback=0.2)"
   ]
  },
  {
   "cell_type": "code",
   "execution_count": 9,
   "metadata": {},
   "outputs": [
    {
     "data": {
      "image/png": "[encoded data removed]",
      "text/plain": [
       "<Figure size 432x288 with 1 Axes>"
      ]
     },
     "metadata": {
      "needs_background": "light"
     },
     "output_type": "display_data"
    }
   ],
   "source": [
    "chorus_signal = np.zeros_like(signal)\n",
    "for idx,val in enumerate(signal):\n",
    "    chorus_signal[idx] = processor.process_sample(val)\n",
    "\n",
    "\n",
    "time = np.linspace(0,len(signal)/sampling_rate,len(signal))\n",
    "plt.plot(time,signal)\n",
    "plt.plot(time,chorus_signal)\n",
    "plt.legend(['Original','Delay'])\n",
    "plt.xlabel('time [s]')\n",
    "plt.ylabel('amp')\n",
    "plt.show()"
   ]
  },
  {
   "cell_type": "markdown",
   "metadata": {},
   "source": [
    "Now we save the sound and you can hear how your effect sound"
   ]
  },
  {
   "cell_type": "code",
   "execution_count": 53,
   "metadata": {},
   "outputs": [],
   "source": [
    "def scale_array_to_int16(array):\n",
    "    return (array*32767).astype(np.int16)\n",
    "\n",
    "wavfile.write('original_signal.wav', sampling_rate, scale_array_to_int16(signal))\n",
    "wavfile.write('chorus_signal.wav', sampling_rate, scale_array_to_int16(chorus_signal))"
   ]
  },
  {
   "cell_type": "markdown",
   "metadata": {},
   "source": [
    "Now is your turn! Try to play with the settings and come with your unique effect. \n",
    "\n",
    "*Challenge*: Can you make a flanger and a vibrato effect based on this code?"
   ]
  },
  {
   "cell_type": "code",
   "execution_count": null,
   "metadata": {},
   "outputs": [],
   "source": []
  }
 ],
 "metadata": {
  "kernelspec": {
   "display_name": "Python 3.10.5 ('pymc')",
   "language": "python",
   "name": "python3"
  },
  "language_info": {
   "codemirror_mode": {
    "name": "ipython",
    "version": 3
   },
   "file_extension": ".py",
   "mimetype": "text/x-python",
   "name": "python",
   "nbconvert_exporter": "python",
   "pygments_lexer": "ipython3",
   "version": "3.10.5"
  },
  "orig_nbformat": 4,
  "vscode": {
   "interpreter": {
    "hash": "d7f45ee74e70fd5a8c44f2862d0e2f3c784313c343dbe4eaf02350381dbee9e7"
   }
  }
 },
 "nbformat": 4,
 "nbformat_minor": 2
}
